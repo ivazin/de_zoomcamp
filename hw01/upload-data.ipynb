{
 "cells": [
  {
   "cell_type": "code",
   "execution_count": null,
   "id": "06826e8e",
   "metadata": {},
   "outputs": [],
   "source": [
    "!pip install pandas sqlalchemy psycopg2-binary python-dotenv"
   ]
  },
  {
   "cell_type": "code",
   "execution_count": null,
   "id": "dbd1877c",
   "metadata": {},
   "outputs": [],
   "source": [
    "import pandas as pd\n",
    "from sqlalchemy import create_engine\n",
    "from dotenv import load_dotenv\n",
    "import os\n",
    "load_dotenv()\n",
    "\n",
    "\n",
    "taxi_file_name = 'green_tripdata_2019-10.csv'\n",
    "taxi_file_name_compressed = 'green_tripdata_2019-10.csv.gz'\n",
    "taxi_table = 'green_tripdata'\n",
    "\n",
    "taxi_lookup_file_name = 'taxi_zone_lookup.csv'\n",
    "taxi_lookup_table = 'taxi_zone_lookup'\n",
    "\n",
    "# wget https://github.com/DataTalksClub/nyc-tlc-data/releases/download/green/green_tripdata_2019-10.csv.gz\n",
    "# wget https://github.com/DataTalksClub/nyc-tlc-data/releases/download/misc/taxi_zone_lookup.csv\n",
    "\n",
    "chunk_size = 50000\n",
    "columns_to_datetime = ['lpep_pickup_datetime', 'lpep_dropoff_datetime']\n",
    "\n",
    "DATABASE_URL = os.getenv(\"DATABASE_URL\")\n",
    "\n",
    "engine = create_engine(DATABASE_URL)\n",
    "engine.connect()\n",
    "\n",
    "df = pd.read_csv(taxi_file_name, nrows=100)\n",
    "for col in columns_to_datetime:\n",
    "    df[col] = pd.to_datetime(df[col])\n",
    "print(pd.io.sql.get_schema(df, name=taxi_table, con=engine))"
   ]
  },
  {
   "cell_type": "code",
   "execution_count": null,
   "id": "7a4c23b7",
   "metadata": {},
   "outputs": [],
   "source": [
    "from time import time\n",
    "\n",
    "df_iter = pd.read_csv(taxi_file_name, iterator=True, chunksize=chunk_size)\n",
    "\n",
    "df = next(df_iter)\n",
    "for col in columns_to_datetime:\n",
    "    df[col] = pd.to_datetime(df[col])\n",
    "\n",
    "df.head(n=0).to_sql(name=taxi_table, con=engine, if_exists='replace')\n",
    "\n",
    "df.to_sql(name=taxi_table, con=engine, if_exists='append')\n",
    "\n",
    "while True:\n",
    "    try:\n",
    "        t_start = time()\n",
    "        df = next(df_iter)\n",
    "        for col in columns_to_datetime:\n",
    "            df[col] = pd.to_datetime(df[col])\n",
    "        df.to_sql(name=taxi_table, con=engine, if_exists='append')\n",
    "        t_end = time()\n",
    "        print('inserted another chunk, took %.3f second' % (t_end - t_start))\n",
    "    except Exception as e:\n",
    "        print(e)\n",
    "        break\n",
    "\n",
    "df2 = pd.read_csv(taxi_lookup_file_name)\n",
    "# df2.head(n=0).to_sql(name=taxi_lookup_table, con=engine, if_exists='replace')\n",
    "df2.to_sql(name=taxi_lookup_table, con=engine, if_exists='append')"
   ]
  }
 ],
 "metadata": {
  "kernelspec": {
   "display_name": "Python 3 (ipykernel)",
   "language": "python",
   "name": "python3"
  },
  "language_info": {
   "codemirror_mode": {
    "name": "ipython",
    "version": 3
   },
   "file_extension": ".py",
   "mimetype": "text/x-python",
   "name": "python",
   "nbconvert_exporter": "python",
   "pygments_lexer": "ipython3",
   "version": "3.9.6"
  }
 },
 "nbformat": 4,
 "nbformat_minor": 5
}
