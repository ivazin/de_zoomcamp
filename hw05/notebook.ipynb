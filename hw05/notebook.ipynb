{
 "cells": [
  {
   "cell_type": "code",
   "execution_count": 1,
   "id": "3cf81237-7396-40c0-8e96-13b3969722d3",
   "metadata": {},
   "outputs": [],
   "source": [
    "import pyspark\n",
    "from pyspark.sql import SparkSession\n",
    "from pyspark.sql import types"
   ]
  },
  {
   "cell_type": "code",
   "execution_count": 2,
   "id": "2ae16f5f-cace-47a9-8da9-de39e398df33",
   "metadata": {},
   "outputs": [],
   "source": [
    "spark = SparkSession.builder \\\n",
    "    .master(\"local[*]\") \\\n",
    "    .appName('test') \\\n",
    "    .getOrCreate()"
   ]
  },
  {
   "cell_type": "code",
   "execution_count": 3,
   "id": "4d8a48f6-7009-458e-86ce-4575f621d049",
   "metadata": {},
   "outputs": [
    {
     "data": {
      "text/plain": [
       "'3.5.1'"
      ]
     },
     "execution_count": 3,
     "metadata": {},
     "output_type": "execute_result"
    }
   ],
   "source": [
    "spark.version"
   ]
  },
  {
   "cell_type": "code",
   "execution_count": 4,
   "id": "f646b01a-1553-4ae2-85d7-ee76c982f12b",
   "metadata": {},
   "outputs": [],
   "source": [
    "file_path = './work/fhv_tripdata_2019-10.csv'\n",
    "tmp_path = './work/head_tmp.csv'\n",
    "output_path = './work/output/'\n",
    "zones_path = './work/taxi_zone_lookup.csv'"
   ]
  },
  {
   "cell_type": "code",
   "execution_count": 5,
   "id": "9ea45258-7b00-40b9-93d1-a8068e3a07d6",
   "metadata": {},
   "outputs": [
    {
     "name": "stdout",
     "output_type": "stream",
     "text": [
      "1897494 ./work/fhv_tripdata_2019-10.csv\n"
     ]
    }
   ],
   "source": [
    "!wc -l {file_path}"
   ]
  },
  {
   "cell_type": "code",
   "execution_count": 6,
   "id": "cd67a3d2-2c2d-4c13-b423-cf085ad1e124",
   "metadata": {},
   "outputs": [],
   "source": [
    "!head -n 101 {file_path} > {tmp_path}"
   ]
  },
  {
   "cell_type": "code",
   "execution_count": 7,
   "id": "ea57252a-3691-4dff-863f-d14154686c03",
   "metadata": {},
   "outputs": [
    {
     "name": "stdout",
     "output_type": "stream",
     "text": [
      "dispatching_base_num,pickup_datetime,dropOff_datetime,PUlocationID,DOlocationID,SR_Flag,Affiliated_base_number\n",
      "B00009,2019-10-01 00:23:00,2019-10-01 00:35:00,264,264,,B00009\n",
      "B00013,2019-10-01 00:11:29,2019-10-01 00:13:22,264,264,,B00013\n",
      "B00014,2019-10-01 00:11:43,2019-10-01 00:37:20,264,264,,B00014\n",
      "B00014,2019-10-01 00:56:29,2019-10-01 00:57:47,264,264,,B00014\n",
      "B00014,2019-10-01 00:23:09,2019-10-01 00:28:27,264,264,,B00014\n",
      "B00021         ,2019-10-01 00:00:48,2019-10-01 00:07:12,129,129,,B00021         \n",
      "B00021         ,2019-10-01 00:47:23,2019-10-01 00:53:25,57,57,,B00021         \n",
      "B00021         ,2019-10-01 00:10:06,2019-10-01 00:19:50,173,173,,B00021         \n",
      "B00021         ,2019-10-01 00:51:37,2019-10-01 01:06:14,226,226,,B00021         \n"
     ]
    }
   ],
   "source": [
    "!head -n 10 {tmp_path}"
   ]
  },
  {
   "cell_type": "code",
   "execution_count": 8,
   "id": "5e56c04d-b317-41f8-bc3e-4338453cae64",
   "metadata": {},
   "outputs": [
    {
     "data": {
      "text/plain": [
       "StructType([StructField('dispatching_base_num', StringType(), True), StructField('pickup_datetime', TimestampType(), True), StructField('dropOff_datetime', TimestampType(), True), StructField('PUlocationID', IntegerType(), True), StructField('DOlocationID', IntegerType(), True), StructField('SR_Flag', StringType(), True), StructField('Affiliated_base_number', StringType(), True)])"
      ]
     },
     "execution_count": 8,
     "metadata": {},
     "output_type": "execute_result"
    }
   ],
   "source": [
    "df = spark.read.csv(file_path, header=True, inferSchema=True)\n",
    "df.schema"
   ]
  },
  {
   "cell_type": "code",
   "execution_count": 9,
   "id": "07b6f900-28c4-4d3d-ada8-6addd3cf1d5e",
   "metadata": {},
   "outputs": [
    {
     "data": {
      "text/plain": [
       "dispatching_base_num       object\n",
       "pickup_datetime            object\n",
       "dropOff_datetime           object\n",
       "PUlocationID                int64\n",
       "DOlocationID                int64\n",
       "SR_Flag                   float64\n",
       "Affiliated_base_number     object\n",
       "dtype: object"
      ]
     },
     "execution_count": 9,
     "metadata": {},
     "output_type": "execute_result"
    }
   ],
   "source": [
    "import pandas as pd\n",
    "df_pandas = pd.read_csv(tmp_path)\n",
    "df_pandas.dtypes"
   ]
  },
  {
   "cell_type": "code",
   "execution_count": 10,
   "id": "b7cfe534-c948-41ff-b8e5-ba2d2f05a12c",
   "metadata": {},
   "outputs": [
    {
     "data": {
      "text/plain": [
       "DataFrame[dispatching_base_num: string, pickup_datetime: string, dropOff_datetime: string, PUlocationID: bigint, DOlocationID: bigint, SR_Flag: double, Affiliated_base_number: string]"
      ]
     },
     "execution_count": 10,
     "metadata": {},
     "output_type": "execute_result"
    }
   ],
   "source": [
    "spark.createDataFrame(df_pandas)"
   ]
  },
  {
   "cell_type": "code",
   "execution_count": 11,
   "id": "a7e0c7b1-81fb-444e-8739-c0c60c22fa38",
   "metadata": {},
   "outputs": [],
   "source": [
    "schema = types.StructType([\n",
    "\ttypes.StructField('dispatching_base_num', types.StringType(), True),\n",
    "\ttypes.StructField('pickup_datetime', types.TimestampType(), True),\n",
    "\ttypes.StructField('dropOff_datetime', types.TimestampType(), True),\n",
    "\ttypes.StructField('PUlocationID', types.IntegerType(), True),\n",
    "\ttypes.StructField('DOlocationID', types.IntegerType(), True),\n",
    "\ttypes.StructField('SR_Flag', types.StringType(), True),\n",
    "\ttypes.StructField('Affiliated_base_number', types.StringType(), True)\n",
    " ])"
   ]
  },
  {
   "cell_type": "code",
   "execution_count": 12,
   "id": "492f3c8d-3d46-4b02-bb7b-14061ae0a1b2",
   "metadata": {},
   "outputs": [],
   "source": [
    "df = spark.read.schema(schema).csv(file_path, header=True)\n",
    "    # .csv(file_path, header=True, inferSchema=True)\n",
    "    "
   ]
  },
  {
   "cell_type": "code",
   "execution_count": 13,
   "id": "a26f7f95-24fd-40e4-9268-faf01bce6135",
   "metadata": {},
   "outputs": [
    {
     "data": {
      "text/plain": [
       "[Row(dispatching_base_num='B00009', pickup_datetime=datetime.datetime(2019, 10, 1, 0, 23), dropOff_datetime=datetime.datetime(2019, 10, 1, 0, 35), PUlocationID=264, DOlocationID=264, SR_Flag=None, Affiliated_base_number='B00009'),\n",
       " Row(dispatching_base_num='B00013', pickup_datetime=datetime.datetime(2019, 10, 1, 0, 11, 29), dropOff_datetime=datetime.datetime(2019, 10, 1, 0, 13, 22), PUlocationID=264, DOlocationID=264, SR_Flag=None, Affiliated_base_number='B00013'),\n",
       " Row(dispatching_base_num='B00014', pickup_datetime=datetime.datetime(2019, 10, 1, 0, 11, 43), dropOff_datetime=datetime.datetime(2019, 10, 1, 0, 37, 20), PUlocationID=264, DOlocationID=264, SR_Flag=None, Affiliated_base_number='B00014'),\n",
       " Row(dispatching_base_num='B00014', pickup_datetime=datetime.datetime(2019, 10, 1, 0, 56, 29), dropOff_datetime=datetime.datetime(2019, 10, 1, 0, 57, 47), PUlocationID=264, DOlocationID=264, SR_Flag=None, Affiliated_base_number='B00014'),\n",
       " Row(dispatching_base_num='B00014', pickup_datetime=datetime.datetime(2019, 10, 1, 0, 23, 9), dropOff_datetime=datetime.datetime(2019, 10, 1, 0, 28, 27), PUlocationID=264, DOlocationID=264, SR_Flag=None, Affiliated_base_number='B00014'),\n",
       " Row(dispatching_base_num='B00021         ', pickup_datetime=datetime.datetime(2019, 10, 1, 0, 0, 48), dropOff_datetime=datetime.datetime(2019, 10, 1, 0, 7, 12), PUlocationID=129, DOlocationID=129, SR_Flag=None, Affiliated_base_number='B00021         '),\n",
       " Row(dispatching_base_num='B00021         ', pickup_datetime=datetime.datetime(2019, 10, 1, 0, 47, 23), dropOff_datetime=datetime.datetime(2019, 10, 1, 0, 53, 25), PUlocationID=57, DOlocationID=57, SR_Flag=None, Affiliated_base_number='B00021         '),\n",
       " Row(dispatching_base_num='B00021         ', pickup_datetime=datetime.datetime(2019, 10, 1, 0, 10, 6), dropOff_datetime=datetime.datetime(2019, 10, 1, 0, 19, 50), PUlocationID=173, DOlocationID=173, SR_Flag=None, Affiliated_base_number='B00021         '),\n",
       " Row(dispatching_base_num='B00021         ', pickup_datetime=datetime.datetime(2019, 10, 1, 0, 51, 37), dropOff_datetime=datetime.datetime(2019, 10, 1, 1, 6, 14), PUlocationID=226, DOlocationID=226, SR_Flag=None, Affiliated_base_number='B00021         '),\n",
       " Row(dispatching_base_num='B00021         ', pickup_datetime=datetime.datetime(2019, 10, 1, 0, 28, 23), dropOff_datetime=datetime.datetime(2019, 10, 1, 0, 34, 33), PUlocationID=56, DOlocationID=56, SR_Flag=None, Affiliated_base_number='B00021         ')]"
      ]
     },
     "execution_count": 13,
     "metadata": {},
     "output_type": "execute_result"
    }
   ],
   "source": [
    "df.head(10)"
   ]
  },
  {
   "cell_type": "code",
   "execution_count": 14,
   "id": "2066efc7-30a2-43f8-8913-4526254e0ab5",
   "metadata": {},
   "outputs": [
    {
     "data": {
      "text/plain": [
       "[Row(dispatching_base_num='B00009', pickup_datetime=datetime.datetime(2019, 10, 1, 0, 23), dropOff_datetime=datetime.datetime(2019, 10, 1, 0, 35), PUlocationID=264, DOlocationID=264, SR_Flag=None, Affiliated_base_number='B00009'),\n",
       " Row(dispatching_base_num='B00013', pickup_datetime=datetime.datetime(2019, 10, 1, 0, 11, 29), dropOff_datetime=datetime.datetime(2019, 10, 1, 0, 13, 22), PUlocationID=264, DOlocationID=264, SR_Flag=None, Affiliated_base_number='B00013'),\n",
       " Row(dispatching_base_num='B00014', pickup_datetime=datetime.datetime(2019, 10, 1, 0, 11, 43), dropOff_datetime=datetime.datetime(2019, 10, 1, 0, 37, 20), PUlocationID=264, DOlocationID=264, SR_Flag=None, Affiliated_base_number='B00014'),\n",
       " Row(dispatching_base_num='B00014', pickup_datetime=datetime.datetime(2019, 10, 1, 0, 56, 29), dropOff_datetime=datetime.datetime(2019, 10, 1, 0, 57, 47), PUlocationID=264, DOlocationID=264, SR_Flag=None, Affiliated_base_number='B00014'),\n",
       " Row(dispatching_base_num='B00014', pickup_datetime=datetime.datetime(2019, 10, 1, 0, 23, 9), dropOff_datetime=datetime.datetime(2019, 10, 1, 0, 28, 27), PUlocationID=264, DOlocationID=264, SR_Flag=None, Affiliated_base_number='B00014'),\n",
       " Row(dispatching_base_num='B00021', pickup_datetime=datetime.datetime(2019, 10, 1, 0, 0, 48), dropOff_datetime=datetime.datetime(2019, 10, 1, 0, 7, 12), PUlocationID=129, DOlocationID=129, SR_Flag=None, Affiliated_base_number='B00021         '),\n",
       " Row(dispatching_base_num='B00021', pickup_datetime=datetime.datetime(2019, 10, 1, 0, 47, 23), dropOff_datetime=datetime.datetime(2019, 10, 1, 0, 53, 25), PUlocationID=57, DOlocationID=57, SR_Flag=None, Affiliated_base_number='B00021         '),\n",
       " Row(dispatching_base_num='B00021', pickup_datetime=datetime.datetime(2019, 10, 1, 0, 10, 6), dropOff_datetime=datetime.datetime(2019, 10, 1, 0, 19, 50), PUlocationID=173, DOlocationID=173, SR_Flag=None, Affiliated_base_number='B00021         '),\n",
       " Row(dispatching_base_num='B00021', pickup_datetime=datetime.datetime(2019, 10, 1, 0, 51, 37), dropOff_datetime=datetime.datetime(2019, 10, 1, 1, 6, 14), PUlocationID=226, DOlocationID=226, SR_Flag=None, Affiliated_base_number='B00021         '),\n",
       " Row(dispatching_base_num='B00021', pickup_datetime=datetime.datetime(2019, 10, 1, 0, 28, 23), dropOff_datetime=datetime.datetime(2019, 10, 1, 0, 34, 33), PUlocationID=56, DOlocationID=56, SR_Flag=None, Affiliated_base_number='B00021         ')]"
      ]
     },
     "execution_count": 14,
     "metadata": {},
     "output_type": "execute_result"
    }
   ],
   "source": [
    "from pyspark.sql import functions as F\n",
    "df_trimmed = df.withColumn('dispatching_base_num', F.trim(F.col('dispatching_base_num')))\n",
    "df_trimmed.head(10)"
   ]
  },
  {
   "cell_type": "code",
   "execution_count": 15,
   "id": "08f0771f-a603-41c4-8024-a3daf5aeb163",
   "metadata": {},
   "outputs": [],
   "source": [
    "df_repartitioned = df.repartition(6)\n",
    "df_repartitioned.write.mode('overwrite').parquet(output_path)\n"
   ]
  },
  {
   "cell_type": "code",
   "execution_count": 16,
   "id": "3f2e7dec-bb18-44ed-9e72-b6856f5ba66a",
   "metadata": {},
   "outputs": [
    {
     "name": "stdout",
     "output_type": "stream",
     "text": [
      "root\n",
      " |-- dispatching_base_num: string (nullable = true)\n",
      " |-- pickup_datetime: timestamp (nullable = true)\n",
      " |-- dropOff_datetime: timestamp (nullable = true)\n",
      " |-- PUlocationID: integer (nullable = true)\n",
      " |-- DOlocationID: integer (nullable = true)\n",
      " |-- SR_Flag: string (nullable = true)\n",
      " |-- Affiliated_base_number: string (nullable = true)\n",
      "\n"
     ]
    }
   ],
   "source": [
    "df = spark.read.parquet(output_path)\n",
    "# df.show()\n",
    "df.printSchema()"
   ]
  },
  {
   "cell_type": "code",
   "execution_count": 17,
   "id": "6942ffaa-b4c8-4900-8211-969776ec97b1",
   "metadata": {},
   "outputs": [
    {
     "name": "stdout",
     "output_type": "stream",
     "text": [
      "Number of records with pickup_datetime on 15th October: 62610\n"
     ]
    }
   ],
   "source": [
    "count_15th_oct = df.filter(F.date_format('pickup_datetime', 'yyyy-MM-dd') == '2019-10-15').count()\n",
    "print(\"Number of records with pickup_datetime on 15th October:\", count_15th_oct)"
   ]
  },
  {
   "cell_type": "code",
   "execution_count": 18,
   "id": "7d87037a-8169-4328-b08d-f3d2f305c8ad",
   "metadata": {},
   "outputs": [
    {
     "name": "stdout",
     "output_type": "stream",
     "text": [
      "Maximum value of trip_len column: 631152.5\n"
     ]
    }
   ],
   "source": [
    "df_with_trip_len = df.withColumn(\"trip_len\", (F.col(\"dropOff_datetime\").cast(\"long\") - F.col(\"pickup_datetime\").cast(\"long\")) / 3600)\n",
    "max_trip_len = df_with_trip_len.agg(F.max(\"trip_len\")).collect()[0][0]\n",
    "print(\"Maximum value of trip_len column:\", max_trip_len)"
   ]
  },
  {
   "cell_type": "code",
   "execution_count": 19,
   "id": "6fc8cb1c-0093-41da-8e66-518cb4e09a63",
   "metadata": {},
   "outputs": [
    {
     "name": "stdout",
     "output_type": "stream",
     "text": [
      "+-------------------+-------------------+------------------+\n",
      "|    pickup_datetime|   dropOff_datetime|          trip_len|\n",
      "+-------------------+-------------------+------------------+\n",
      "|2019-10-11 18:00:00|2091-10-11 18:30:00|          631152.5|\n",
      "|2019-10-28 09:00:00|2091-10-28 09:30:00|          631152.5|\n",
      "|2019-10-31 23:46:33|2029-11-01 00:13:00| 87672.44083333333|\n",
      "|2019-10-01 21:43:42|2027-10-01 21:45:23| 70128.02805555555|\n",
      "|2019-10-17 14:00:00|2020-10-18 00:00:00|            8794.0|\n",
      "|2019-10-26 21:26:00|2020-10-26 21:36:00| 8784.166666666666|\n",
      "|2019-10-30 12:30:04|2019-12-30 13:02:08|1464.5344444444445|\n",
      "|2019-10-25 07:04:57|2019-12-08 07:54:33|1056.8266666666666|\n",
      "|2019-10-25 07:04:57|2019-12-08 07:21:11|1056.2705555555556|\n",
      "|2019-10-01 13:47:17|2019-11-03 15:20:28| 793.5530555555556|\n",
      "|2019-10-01 07:21:12|2019-11-03 08:44:21| 793.3858333333334|\n",
      "|2019-10-01 13:41:00|2019-11-03 14:58:51|          793.2975|\n",
      "|2019-10-01 18:43:20|2019-11-03 19:43:13| 792.9980555555555|\n",
      "|2019-10-01 18:43:46|2019-11-03 19:43:04| 792.9883333333333|\n",
      "|2019-10-01 07:07:09|2019-11-03 07:58:46| 792.8602777777778|\n",
      "|2019-10-01 14:49:28|2019-11-03 15:38:07| 792.8108333333333|\n",
      "|2019-10-01 05:36:30|2019-11-03 06:23:36|           792.785|\n",
      "|2019-10-01 15:02:55|2019-11-03 15:49:05| 792.7694444444444|\n",
      "|2019-10-01 06:08:01|2019-11-03 06:53:15| 792.7538888888889|\n",
      "|2019-10-01 06:41:17|2019-11-03 07:26:04| 792.7463888888889|\n",
      "+-------------------+-------------------+------------------+\n",
      "only showing top 20 rows\n",
      "\n"
     ]
    }
   ],
   "source": [
    "df_with_trip_len.select(['pickup_datetime','dropOff_datetime', 'trip_len']).orderBy(F.col(\"trip_len\").desc()).show()"
   ]
  },
  {
   "cell_type": "code",
   "execution_count": 20,
   "id": "0109c518-8552-41d9-b73b-2afef91b0a79",
   "metadata": {},
   "outputs": [
    {
     "name": "stdout",
     "output_type": "stream",
     "text": [
      "root\n",
      " |-- LocationID: integer (nullable = true)\n",
      " |-- Borough: string (nullable = true)\n",
      " |-- Zone: string (nullable = true)\n",
      " |-- service_zone: string (nullable = true)\n",
      "\n"
     ]
    }
   ],
   "source": [
    "# df1 = spark.read.csv(\"file1.csv\", header=True, inferSchema=True)\n",
    "df_zones = spark.read.csv(zones_path, header=True, inferSchema=True)\n",
    "df_zones.printSchema()"
   ]
  },
  {
   "cell_type": "code",
   "execution_count": 21,
   "id": "2744c756-6e1f-4714-9240-119cc19b3e0c",
   "metadata": {},
   "outputs": [
    {
     "name": "stdout",
     "output_type": "stream",
     "text": [
      "+--------------------+-------------------+-------------------+------------+------------+-------+----------------------+------------------+----------+-------+----+------------+\n",
      "|dispatching_base_num|    pickup_datetime|   dropOff_datetime|PUlocationID|DOlocationID|SR_Flag|Affiliated_base_number|          trip_len|LocationID|Borough|Zone|service_zone|\n",
      "+--------------------+-------------------+-------------------+------------+------------+-------+----------------------+------------------+----------+-------+----+------------+\n",
      "|              B00536|2019-10-01 15:08:08|2019-10-01 15:19:09|         264|          85|   NULL|                B00536|0.1836111111111111|       264|Unknown|  NV|         N/A|\n",
      "|              B01984|2019-10-01 09:27:00|2019-10-01 09:42:00|         264|          11|   NULL|                B01984|              0.25|       264|Unknown|  NV|         N/A|\n",
      "|              B00037|2019-10-01 07:56:01|2019-10-01 08:12:44|         264|          39|   NULL|                B00037|0.2786111111111111|       264|Unknown|  NV|         N/A|\n",
      "|              B01145|2019-10-02 17:55:35|2019-10-02 18:15:59|         264|         178|   NULL|                B02879|              0.34|       264|Unknown|  NV|         N/A|\n",
      "|              B01259|2019-10-02 13:40:26|2019-10-02 14:02:42|         264|          17|   NULL|                B01259|0.3711111111111111|       264|Unknown|  NV|         N/A|\n",
      "+--------------------+-------------------+-------------------+------------+------------+-------+----------------------+------------------+----------+-------+----+------------+\n",
      "only showing top 5 rows\n",
      "\n"
     ]
    }
   ],
   "source": [
    "# joined_df = df1.join(df2, (df_with_trip_len[\"PUlocationID\"] == df_zones[\"LocationID\"]) & (df_with_trip_len[\"PUlocationID\"] == df_zones[\"LocationID\"]), how=\"inner\")\n",
    "joined_df = df_with_trip_len.join(df_zones, (df_with_trip_len[\"PUlocationID\"] == df_zones[\"LocationID\"]), how=\"inner\")\n",
    "joined_df.show(5)"
   ]
  },
  {
   "cell_type": "code",
   "execution_count": 22,
   "id": "cca72030-fff2-4f24-a334-d27364ee8ace",
   "metadata": {},
   "outputs": [
    {
     "name": "stdout",
     "output_type": "stream",
     "text": [
      "+--------------------+-----+\n",
      "|                Zone|Count|\n",
      "+--------------------+-----+\n",
      "|         Jamaica Bay|    1|\n",
      "|Governor's Island...|    2|\n",
      "| Green-Wood Cemetery|    5|\n",
      "|       Broad Channel|    8|\n",
      "|     Highbridge Park|   14|\n",
      "|        Battery Park|   15|\n",
      "|Saint Michaels Ce...|   23|\n",
      "|Breezy Point/Fort...|   25|\n",
      "|Marine Park/Floyd...|   26|\n",
      "|        Astoria Park|   29|\n",
      "|    Inwood Hill Park|   39|\n",
      "|       Willets Point|   47|\n",
      "|Forest Park/Highl...|   53|\n",
      "|  Brooklyn Navy Yard|   57|\n",
      "|        Crotona Park|   62|\n",
      "|        Country Club|   77|\n",
      "|     Freshkills Park|   89|\n",
      "|       Prospect Park|   98|\n",
      "|     Columbia Street|  105|\n",
      "|  South Williamsburg|  110|\n",
      "+--------------------+-----+\n",
      "only showing top 20 rows\n",
      "\n"
     ]
    }
   ],
   "source": [
    "result_df = joined_df.select('Zone').groupBy(\"Zone\").agg(F.count(\"Zone\").alias(\"Count\"))\n",
    "result_df.orderBy('Count').show()"
   ]
  }
 ],
 "metadata": {
  "kernelspec": {
   "display_name": "Python 3 (ipykernel)",
   "language": "python",
   "name": "python3"
  },
  "language_info": {
   "codemirror_mode": {
    "name": "ipython",
    "version": 3
   },
   "file_extension": ".py",
   "mimetype": "text/x-python",
   "name": "python",
   "nbconvert_exporter": "python",
   "pygments_lexer": "ipython3",
   "version": "3.11.6"
  }
 },
 "nbformat": 4,
 "nbformat_minor": 5
}
